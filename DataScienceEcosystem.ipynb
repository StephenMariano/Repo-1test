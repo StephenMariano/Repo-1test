{
 "cells": [
  {
   "cell_type": "markdown",
   "id": "e60847f9-1bcd-4c8b-9049-fa5b314ab2a7",
   "metadata": {},
   "source": [
    "# Data Science Tools and Ecosystem"
   ]
  },
  {
   "cell_type": "markdown",
   "id": "da10e73a-9eaa-4c0f-ae83-8858f32789d0",
   "metadata": {},
   "source": [
    "In this notebook, Data Science Tools and Ecosystem are summarized."
   ]
  },
  {
   "cell_type": "markdown",
   "id": "15261fb1-ee40-4de9-bdef-9b512ff7eca7",
   "metadata": {},
   "source": [
    "Some of the popular languages that Data Science use are:\n",
    "1) Python\n",
    "2) SQL\n",
    "3) R"
   ]
  },
  {
   "cell_type": "markdown",
   "id": "bba27dbe-dc1e-4034-a3bc-c355fe3e0b3f",
   "metadata": {},
   "source": [
    "**Objectives**:\n",
    "- List popular languages for Data Science\n",
    "- List commonly used libraries used by Data Scientist\n",
    "- List commonly used Data Science tools\n",
    "- Evaluate Arithmetic expression in Python"
   ]
  },
  {
   "cell_type": "markdown",
   "id": "de4c18f1-a05f-45aa-80ea-36d8541f7d37",
   "metadata": {},
   "source": [
    "Some of the commonly used libraries used by Data Scientist include:\n",
    "1) Pandas\n",
    "2) ggplot2\n",
    "3) TenserFlow"
   ]
  },
  {
   "cell_type": "markdown",
   "id": "0fba0689-b760-4811-9891-18190a5b8262",
   "metadata": {},
   "source": [
    "| Data Science Tools |\n",
    "|--------------------|\n",
    "| Jupyter Notebook   |\n",
    "| Apache Spark       |\n",
    "| R Studio           |"
   ]
  },
  {
   "cell_type": "markdown",
   "id": "8f7e21b1-591d-4528-a42a-487e111dffd5",
   "metadata": {},
   "source": [
    "### Below are few examples of evaluating arithmetic expression in Python."
   ]
  },
  {
   "cell_type": "code",
   "execution_count": 9,
   "id": "452e542b-f7c5-4779-86ee-680a5f8d89d1",
   "metadata": {},
   "outputs": [
    {
     "data": {
      "text/plain": [
       "17"
      ]
     },
     "execution_count": 9,
     "metadata": {},
     "output_type": "execute_result"
    }
   ],
   "source": [
    "# This is a simple arithmetic expression to multiply then add integers\n",
    "result = (3*4)+5\n",
    "result"
   ]
  },
  {
   "cell_type": "code",
   "execution_count": 10,
   "id": "2c1b6555-e29d-4323-b710-2390de750423",
   "metadata": {},
   "outputs": [
    {
     "data": {
      "text/plain": [
       "3.3333333333333335"
      ]
     },
     "execution_count": 10,
     "metadata": {},
     "output_type": "execute_result"
    }
   ],
   "source": [
    "# This will convert 200 minutes to hours by dividing by 60\n",
    "hours = 200/60\n",
    "hours"
   ]
  },
  {
   "cell_type": "markdown",
   "id": "f20e3d20-4b4d-4250-8df4-5f758b9fa899",
   "metadata": {},
   "source": [
    "## Author\n",
    "Stephen"
   ]
  },
  {
   "cell_type": "code",
   "execution_count": null,
   "id": "a7b4a472-35b6-433a-8529-69c1a645fa58",
   "metadata": {},
   "outputs": [],
   "source": []
  }
 ],
 "metadata": {
  "kernelspec": {
   "display_name": "Python 3 (ipykernel)",
   "language": "python",
   "name": "python3"
  },
  "language_info": {
   "codemirror_mode": {
    "name": "ipython",
    "version": 3
   },
   "file_extension": ".py",
   "mimetype": "text/x-python",
   "name": "python",
   "nbconvert_exporter": "python",
   "pygments_lexer": "ipython3",
   "version": "3.8.2"
  }
 },
 "nbformat": 4,
 "nbformat_minor": 5
}
